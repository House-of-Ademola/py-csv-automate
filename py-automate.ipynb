{
 "cells": [
  {
   "cell_type": "markdown",
   "metadata": {
    "collapsed": false
   },
   "source": [
    "# Importing a CSV File Into a Postgres Database\n",
    "\n",
    "## Steps:\n",
    "- Import the CSV file into a pandas df\n",
    "- Clean the table name and remove all extra symbols, spaces, capital letters\n",
    "- Clean the column headers and remove all extra symbols, spaces, capital letters\n",
    "- Write the create table SQL statement\n",
    "- Import the data into the db"
   ]
  },
  {
   "cell_type": "code",
   "execution_count": 24,
   "metadata": {
    "collapsed": false
   },
   "outputs": [],
   "source": [
    "#import libraries\n",
    "#conda install psycopg2\n",
    "#pip install psycopg2\n",
    "\n",
    "import os\n",
    "import numpy as np\n",
    "import pandas as pd\n",
    "import psycopg2"
   ]
  },
  {
   "cell_type": "markdown",
   "metadata": {
    "collapsed": false
   },
   "source": [
    "# Find CSV Files in Directory"
   ]
  },
  {
   "cell_type": "code",
   "execution_count": 3,
   "metadata": {
    "collapsed": false
   },
   "outputs": [],
   "source": [
    "#Find CSV files in my current working directory\n",
    "#Isolate only the CSV files\n",
    "#Make a new directory\n",
    "#Move the CSV files in the new directory"
   ]
  },
  {
   "cell_type": "code",
   "execution_count": 25,
   "metadata": {
    "collapsed": false
   },
   "outputs": [
    {
     "data": {
      "text/plain": [
       "['Customer Contracts$.csv', 'Customer Engagements.csv', 'Customer Demo.csv']"
      ]
     },
     "execution_count": 25,
     "metadata": {},
     "output_type": "execute_result"
    }
   ],
   "source": [
    "# Find CSV files in my current working directory\n",
    "all_files = os.listdir(os.getcwd())\n",
    "csv_files = list(filter(lambda f: f.endswith('.csv'), all_files))\n",
    "csv_files"
   ]
  },
  {
   "cell_type": "code",
   "execution_count": 26,
   "metadata": {
    "collapsed": false
   },
   "outputs": [
    {
     "data": {
      "text/plain": [
       "'mkdir dataset'"
      ]
     },
     "execution_count": 26,
     "metadata": {},
     "output_type": "execute_result"
    }
   ],
   "source": [
    "# Make a new directory\n",
    "dataset_dir = 'dataset'\n",
    "\n",
    "# Create the bash command to make a new directory\n",
    "try:\n",
    "    mkdir = 'mkdir {0}'.format(dataset_dir)\n",
    "    os.system(mkdir)\n",
    "except:\n",
    "    pass\n",
    "mkdir"
   ]
  },
  {
   "cell_type": "code",
   "execution_count": 27,
   "metadata": {
    "collapsed": false
   },
   "outputs": [
    {
     "name": "stdout",
     "output_type": "stream",
     "text": [
      "mv 'Customer Contracts$.csv' dataset\n",
      "mv 'Customer Engagements.csv' dataset\n",
      "mv 'Customer Demo.csv' dataset\n"
     ]
    }
   ],
   "source": [
    "# Move the CSV files in the new directory\n",
    "for csv in csv_files:\n",
    "    mv_file = \"mv '{0}' {1}\".format(csv, dataset_dir)\n",
    "    os.system(mv_file)\n",
    "    print(mv_file)"
   ]
  },
  {
   "cell_type": "markdown",
   "metadata": {
    "collapsed": false
   },
   "source": [
    "# Create the Pandas DF From the CSV File"
   ]
  },
  {
   "cell_type": "code",
   "execution_count": 28,
   "metadata": {
    "collapsed": false
   },
   "outputs": [
    {
     "name": "stdout",
     "output_type": "stream",
     "text": [
      "Customer Contracts$.csv\n",
      "Customer Engagements.csv\n",
      "Customer Demo.csv\n"
     ]
    }
   ],
   "source": [
    "data_path = os.getcwd()+'/'+dataset_dir+'/'\n",
    "\n",
    "df = {}\n",
    "for file in csv_files:\n",
    "    try:\n",
    "        df[file] = pd.read_csv(data_path+file)\n",
    "    except UnicodeDecodeError:\n",
    "        df[file] = pd.read_csv(data_path+file, encoding=\"ISO-8859-1\")\n",
    "    print(file)"
   ]
  },
  {
   "cell_type": "code",
   "execution_count": 29,
   "metadata": {},
   "outputs": [
    {
     "data": {
      "text/html": [
       "<div>\n",
       "<style scoped>\n",
       "    .dataframe tbody tr th:only-of-type {\n",
       "        vertical-align: middle;\n",
       "    }\n",
       "\n",
       "    .dataframe tbody tr th {\n",
       "        vertical-align: top;\n",
       "    }\n",
       "\n",
       "    .dataframe thead th {\n",
       "        text-align: right;\n",
       "    }\n",
       "</style>\n",
       "<table border=\"1\" class=\"dataframe\">\n",
       "  <thead>\n",
       "    <tr style=\"text-align: right;\">\n",
       "      <th></th>\n",
       "      <th>customer_name</th>\n",
       "      <th>start_date</th>\n",
       "      <th>end_date</th>\n",
       "      <th>contract_amount_m</th>\n",
       "      <th>invoice_sent</th>\n",
       "      <th>paid</th>\n",
       "    </tr>\n",
       "  </thead>\n",
       "  <tbody>\n",
       "    <tr>\n",
       "      <th>0</th>\n",
       "      <td>Nike</td>\n",
       "      <td>01-02-2019</td>\n",
       "      <td>12-20-2020</td>\n",
       "      <td>2.98</td>\n",
       "      <td>Yes</td>\n",
       "      <td>Yes</td>\n",
       "    </tr>\n",
       "    <tr>\n",
       "      <th>1</th>\n",
       "      <td>Reebox</td>\n",
       "      <td>06-20-2017</td>\n",
       "      <td>NaN</td>\n",
       "      <td>3.90</td>\n",
       "      <td>No</td>\n",
       "      <td>No</td>\n",
       "    </tr>\n",
       "    <tr>\n",
       "      <th>2</th>\n",
       "      <td>Adidas</td>\n",
       "      <td>12-07-2015</td>\n",
       "      <td>6-20-2018</td>\n",
       "      <td>4.82</td>\n",
       "      <td>Yes</td>\n",
       "      <td>Yes</td>\n",
       "    </tr>\n",
       "    <tr>\n",
       "      <th>3</th>\n",
       "      <td>Google</td>\n",
       "      <td>05-25-2014</td>\n",
       "      <td>03-20-2017</td>\n",
       "      <td>5.74</td>\n",
       "      <td>Yes</td>\n",
       "      <td>No</td>\n",
       "    </tr>\n",
       "    <tr>\n",
       "      <th>4</th>\n",
       "      <td>Amazon</td>\n",
       "      <td>11-10-2012</td>\n",
       "      <td>12-20-2015</td>\n",
       "      <td>6.66</td>\n",
       "      <td>No</td>\n",
       "      <td>Yes</td>\n",
       "    </tr>\n",
       "  </tbody>\n",
       "</table>\n",
       "</div>"
      ],
      "text/plain": [
       "  customer_name  start_date    end_date  contract_amount_m invoice_sent paid\n",
       "0          Nike  01-02-2019  12-20-2020               2.98          Yes  Yes\n",
       "1        Reebox  06-20-2017         NaN               3.90           No   No\n",
       "2        Adidas  12-07-2015   6-20-2018               4.82          Yes  Yes\n",
       "3        Google  05-25-2014  03-20-2017               5.74          Yes   No\n",
       "4        Amazon  11-10-2012  12-20-2015               6.66           No  Yes"
      ]
     },
     "execution_count": 29,
     "metadata": {},
     "output_type": "execute_result"
    }
   ],
   "source": [
    "df['Customer Contracts$.csv'].head()"
   ]
  },
  {
   "attachments": {},
   "cell_type": "markdown",
   "metadata": {},
   "source": [
    "# Clean Table Names and Column Names"
   ]
  },
  {
   "cell_type": "code",
   "execution_count": 30,
   "metadata": {},
   "outputs": [
    {
     "name": "stdout",
     "output_type": "stream",
     "text": [
      "customer_contracts\n",
      "customer_name varchar, start_date varchar, end_date varchar, contract_amount_m float, invoice_sent varchar, paid varchar\n",
      "Connecting to database\n",
      " ->host='localhost' dbname='pyautomation' user='root' password='secret' port='5432' options='-c search_path=dbo,public'\n",
      "opened database successfully\n",
      "customer_contracts was created succesfully\n",
      "File opened in memory\n",
      "File copied to db\n",
      "Table {0} to imported to db completed\n",
      "customer_engagements\n",
      "customer_id int, num_of_users int, _of_all_employees varchar, sso varchar, launched varchar\n",
      "Connecting to database\n",
      " ->host='localhost' dbname='pyautomation' user='root' password='secret' port='5432' options='-c search_path=dbo,public'\n",
      "opened database successfully\n",
      "customer_engagements was created succesfully\n",
      "File opened in memory\n",
      "File copied to db\n",
      "Table {0} to imported to db completed\n",
      "customer_demo\n",
      "customer_id int, customer_name varchar, employee_count int, office_location varchar\n",
      "Connecting to database\n",
      " ->host='localhost' dbname='pyautomation' user='root' password='secret' port='5432' options='-c search_path=dbo,public'\n",
      "opened database successfully\n",
      "customer_demo was created succesfully\n",
      "File opened in memory\n",
      "File copied to db\n",
      "Table {0} to imported to db completed\n",
      "All tables have veen succesfully imported into db\n"
     ]
    }
   ],
   "source": [
    "for k in csv_files:\n",
    "    dataframe = df[k]\n",
    "    clean_tbl_name = k.lower().replace(\" \",\"_\").replace(\"?\",\"\"). \\\n",
    "    replace(\"-\",\"_\").replace(r\"/\",\"_\").replace(\"\\\\\",\"_\") \\\n",
    "    .replace(\"%\",\"\").replace(\")\",\"\").replace(r\"(\",\"\").replace(\"$\",\"\")\n",
    "    # print(clean_tbl_name)\n",
    "\n",
    "    # Remove .csv extension from clean_tbl_name\n",
    "    tbl_name = '{0}'.format(clean_tbl_name.split('.')[0])\n",
    "    print(tbl_name)\n",
    "\n",
    "    dataframe.columns = [x.lower().replace(\" \",\"_\").replace(\"?\",\"\"). \\\n",
    "    replace(\"-\",\"_\").replace(r\"/\",\"_\").replace(\"\\\\\",\"_\") \\\n",
    "    .replace(\"%\",\"\").replace(\")\",\"\").replace(r\"(\",\"\").replace(\"$\",\"\") for x in dataframe.columns]\n",
    "    # print(dataframe.columns)\n",
    "\n",
    "    # Replacement dictionary that maps pandas dtypes to sql dytpes\n",
    "    replacements = {\n",
    "    'object' : 'varchar',\n",
    "    'float64' : 'float',\n",
    "    'int64' : 'int',\n",
    "    'datetime64' : 'timestamp',\n",
    "    'timedelta64[ns]' : 'varchar'\n",
    "    }\n",
    "    replacements\n",
    "\n",
    "    # Table Schema\n",
    "    col_str = \", \".join(\"{} {}\".format(n, d) for (n, d) in zip(dataframe.columns, dataframe.dtypes.replace(replacements)))\n",
    "    print(col_str)\n",
    "\n",
    "    # Open a database connection\n",
    "    conn_string = \"host='localhost' dbname='pyautomation' user='root' password='secret' port='5432' options='-c search_path=dbo,public'\"\n",
    "\n",
    "    print (\"Connecting to database\\n ->%s\" % (conn_string))\n",
    "\n",
    "    conn = psycopg2.connect(conn_string)\n",
    "    cursor = conn.cursor()\n",
    "    print(\"opened database successfully\")\n",
    "\n",
    "    # Drop tables with same name\n",
    "    cursor.execute(\"drop table if exists %s;\" % (tbl_name))\n",
    "\n",
    "    # Create table\n",
    "    cursor.execute(\"create table %s (%s)\" % (tbl_name, col_str))\n",
    "    print('{0} was created succesfully'.format(tbl_name))\n",
    "\n",
    "    # Insert Values to table\n",
    "\n",
    "    # Save df to csv\n",
    "    dataframe.to_csv(k, header=dataframe.columns, index=False, encoding='utf-8')\n",
    "\n",
    "    # Open the csv file, save it as an object\n",
    "    my_file = open(k)\n",
    "    print(\"File opened in memory\")\n",
    "\n",
    "    # Upload to db\n",
    "    SQL_STATEMENT = \"\"\"\n",
    "    COPY %s FROM STDIN WITH\n",
    "        CSV\n",
    "        HEADER\n",
    "        DELIMITER AS ','\n",
    "    \"\"\"\n",
    "\n",
    "    cursor.copy_expert(sql=SQL_STATEMENT % tbl_name, file=my_file)\n",
    "    print(\"File copied to db\")\n",
    "\n",
    "    cursor.execute(\"grant select on table %s to public\" % tbl_name)\n",
    "    conn.commit()\n",
    "\n",
    "    cursor.close()\n",
    "    print(\"Table {0} to imported to db completed\")\n",
    "\n",
    "print('All tables have veen succesfully imported into db')"
   ]
  }
 ],
 "metadata": {
  "kernelspec": {
   "display_name": "Python 3",
   "language": "python",
   "name": "python3"
  },
  "language_info": {
   "codemirror_mode": {
    "name": "ipython",
    "version": 3
   },
   "file_extension": ".py",
   "mimetype": "text/x-python",
   "name": "python",
   "nbconvert_exporter": "python",
   "pygments_lexer": "ipython3",
   "version": "3.10.9"
  },
  "vscode": {
   "interpreter": {
    "hash": "aee8b7b246df8f9039afb4144a1f6fd8d2ca17a180786b69acc140d282b71a49"
   }
  }
 },
 "nbformat": 4,
 "nbformat_minor": 0
}
