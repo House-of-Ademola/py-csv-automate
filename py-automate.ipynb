{
 "cells": [
  {
   "cell_type": "markdown",
   "metadata": {
    "collapsed": false
   },
   "source": [
    "#### Steps\n",
    "- import the CSV file into a pandas df\n",
    "- clean the table name and remove all extra symbols, spaces, capital letters\n",
    "- clean the column headers and remove all extra symbols, spaces, capital letters\n",
    "- write the create table SQL statement\n",
    "- import the data into the db"
   ]
  },
  {
   "cell_type": "code",
   "execution_count": 88,
   "metadata": {
    "collapsed": false
   },
   "outputs": [],
   "source": [
    "#import libraries\n",
    "#conda install psycopg2\n",
    "#pip install psycopg2\n",
    "\n",
    "import pandas as pd\n",
    "import numpy as np\n",
    "import psycopg2 as pdb"
   ]
  },
  {
   "cell_type": "code",
   "execution_count": 89,
   "metadata": {
    "collapsed": false
   },
   "outputs": [
    {
     "name": "stdout",
     "output_type": "stream",
     "text": [
      "Customer Contracts$.csv  Customer Engagements.csv py-automate.ipynb\r\n",
      "Customer Demo.csv        \u001B[1m\u001B[36mpy-automate\u001B[m\u001B[m              requirements.txt\r\n"
     ]
    }
   ],
   "source": [
    "!ls"
   ]
  },
  {
   "cell_type": "code",
   "execution_count": 90,
   "outputs": [
    {
     "data": {
      "text/plain": "  customer_name  start_date    end_date  contract_amount_m invoice_sent paid\n0          Nike  01-02-2019  12-20-2020               2.98          Yes  Yes\n1        Reebox  06-20-2017         NaN               3.90           No   No\n2        Adidas  12-07-2015   6-20-2018               4.82          Yes  Yes\n3        Google  05-25-2014  03-20-2017               5.74          Yes   No\n4        Amazon  11-10-2012  12-20-2015               6.66           No  Yes",
      "text/html": "<div>\n<style scoped>\n    .dataframe tbody tr th:only-of-type {\n        vertical-align: middle;\n    }\n\n    .dataframe tbody tr th {\n        vertical-align: top;\n    }\n\n    .dataframe thead th {\n        text-align: right;\n    }\n</style>\n<table border=\"1\" class=\"dataframe\">\n  <thead>\n    <tr style=\"text-align: right;\">\n      <th></th>\n      <th>customer_name</th>\n      <th>start_date</th>\n      <th>end_date</th>\n      <th>contract_amount_m</th>\n      <th>invoice_sent</th>\n      <th>paid</th>\n    </tr>\n  </thead>\n  <tbody>\n    <tr>\n      <th>0</th>\n      <td>Nike</td>\n      <td>01-02-2019</td>\n      <td>12-20-2020</td>\n      <td>2.98</td>\n      <td>Yes</td>\n      <td>Yes</td>\n    </tr>\n    <tr>\n      <th>1</th>\n      <td>Reebox</td>\n      <td>06-20-2017</td>\n      <td>NaN</td>\n      <td>3.90</td>\n      <td>No</td>\n      <td>No</td>\n    </tr>\n    <tr>\n      <th>2</th>\n      <td>Adidas</td>\n      <td>12-07-2015</td>\n      <td>6-20-2018</td>\n      <td>4.82</td>\n      <td>Yes</td>\n      <td>Yes</td>\n    </tr>\n    <tr>\n      <th>3</th>\n      <td>Google</td>\n      <td>05-25-2014</td>\n      <td>03-20-2017</td>\n      <td>5.74</td>\n      <td>Yes</td>\n      <td>No</td>\n    </tr>\n    <tr>\n      <th>4</th>\n      <td>Amazon</td>\n      <td>11-10-2012</td>\n      <td>12-20-2015</td>\n      <td>6.66</td>\n      <td>No</td>\n      <td>Yes</td>\n    </tr>\n  </tbody>\n</table>\n</div>"
     },
     "execution_count": 90,
     "metadata": {},
     "output_type": "execute_result"
    }
   ],
   "source": [
    "df = pd.read_csv(\"Customer Contracts$.csv\")\n",
    "df.head()"
   ],
   "metadata": {
    "collapsed": false
   }
  },
  {
   "cell_type": "code",
   "execution_count": 91,
   "outputs": [
    {
     "data": {
      "text/plain": "'customer_contracts'"
     },
     "execution_count": 91,
     "metadata": {},
     "output_type": "execute_result"
    }
   ],
   "source": [
    "#Clean table names\n",
    "# lower case letters\n",
    "# remove all white spaces and $\n",
    "# replace -, /, // with _\n",
    "file = \"Customer Contracts$\"\n",
    "\n",
    "clean_tbl_name = file.lower().replace(\" \", \"_\").replace(\"?\", \"\") \\\n",
    "    .replace(\"-\", \"_\").replace(r\"/\", \"_\").replace(\"\\\\\", \"_\").replace(\"%\", \"\") \\\n",
    "    .replace(\")\", \"\").replace(r\"(\", \"\").replace(\"$\", \"\")\n",
    "clean_tbl_name"
   ],
   "metadata": {
    "collapsed": false
   }
  },
  {
   "cell_type": "code",
   "execution_count": 92,
   "outputs": [
    {
     "data": {
      "text/plain": "Index(['customer_name', 'start_date', 'end_date', 'contract_amount_m',\n       'invoice_sent', 'paid'],\n      dtype='object')"
     },
     "execution_count": 92,
     "metadata": {},
     "output_type": "execute_result"
    }
   ],
   "source": [
    "#Clean header names\n",
    "# lower case letters\n",
    "# remove all white spaces and $\n",
    "# replace -, /, // with _\n",
    "df.columns = [x.lower().replace(\" \", \"_\").replace(\"?\", \"\") \\\n",
    "    .replace(\"-\", \"_\").replace(r\"/\", \"_\").replace(\"\\\\\", \"_\").replace(\"%\", \"\") \\\n",
    "    .replace(\")\", \"\").replace(r\"(\", \"\").replace(\"$\", \"\") for x in df.columns]\n",
    "\n",
    "df.columns"
   ],
   "metadata": {
    "collapsed": false
   }
  },
  {
   "cell_type": "code",
   "execution_count": 93,
   "outputs": [
    {
     "data": {
      "text/plain": "'\\ncreate table customer_contracts\\n(\\n    customer_name       varchar,\\n    start_date          varchar,\\n    end_date            varchar,\\n    contract_amount_m   float,\\n    invoice_sent        varchar,\\n    paid                varchar,\\n);\\n'"
     },
     "execution_count": 93,
     "metadata": {},
     "output_type": "execute_result"
    }
   ],
   "source": [
    "\"\"\"\n",
    "create table customer_contracts\n",
    "(\n",
    "    customer_name       varchar,\n",
    "    start_date          varchar,\n",
    "    end_date            varchar,\n",
    "    contract_amount_m   float,\n",
    "    invoice_sent        varchar,\n",
    "    paid                varchar,\n",
    ");\n",
    "\"\"\""
   ],
   "metadata": {
    "collapsed": false
   }
  },
  {
   "cell_type": "code",
   "execution_count": 94,
   "outputs": [
    {
     "data": {
      "text/plain": "customer_name         object\nstart_date            object\nend_date              object\ncontract_amount_m    float64\ninvoice_sent          object\npaid                  object\ndtype: object"
     },
     "execution_count": 94,
     "metadata": {},
     "output_type": "execute_result"
    }
   ],
   "source": [
    "df.dtypes"
   ],
   "metadata": {
    "collapsed": false
   }
  },
  {
   "cell_type": "code",
   "execution_count": 95,
   "outputs": [
    {
     "data": {
      "text/plain": "{'object': 'varchar',\n 'float64': 'float',\n 'int64': 'int',\n 'datetime64': 'timestamp',\n 'timedelta64[ns]': 'varchar'}"
     },
     "execution_count": 95,
     "metadata": {},
     "output_type": "execute_result"
    }
   ],
   "source": [
    "replacements = {\n",
    "    'object': 'varchar',\n",
    "    'float64': 'float',\n",
    "    'int64': 'int',\n",
    "    'datetime64': 'timestamp',\n",
    "    'timedelta64[ns]': 'varchar'\n",
    "}\n",
    "\n",
    "replacements"
   ],
   "metadata": {
    "collapsed": false
   }
  },
  {
   "cell_type": "code",
   "execution_count": 96,
   "outputs": [
    {
     "data": {
      "text/plain": "'customer_name varchar, start_date varchar, end_date varchar, contract_amount_m float, invoice_sent varchar, paid varchar'"
     },
     "execution_count": 96,
     "metadata": {},
     "output_type": "execute_result"
    }
   ],
   "source": [
    "col_str = \", \".join(\"{} {}\".format(n, d) for (n, d) in zip(df.columns, df.dtypes.replace(replacements)))\n",
    "col_str"
   ],
   "metadata": {
    "collapsed": false
   }
  },
  {
   "cell_type": "code",
   "execution_count": 97,
   "outputs": [],
   "source": [
    "# #Enter the values for your database connection\n",
    "# dsn_database = \"pyautomation\"\n",
    "# dsn_hostname = \"192.168.1.10\"\n",
    "# dsn_port = \"5432\"\n",
    "# dsn_uid = \"root\"\n",
    "# dsn_pwd = \"secret\""
   ],
   "metadata": {
    "collapsed": false
   }
  },
  {
   "cell_type": "code",
   "execution_count": 98,
   "outputs": [],
   "source": [
    "# #open a database connection\n",
    "# conn_string = \"host=\"+dsn_hostname+\" port=\"+dsn_port+\" dbname=\"+dsn_database+\" user=\"+dsn_uid+\"password=\"+dsn_pwd\n",
    "#\n",
    "# conn = psycopg2.connect(conn_string)\n",
    "# cursor = conn.cursor()\n",
    "# print('opened database successfully')"
   ],
   "metadata": {
    "collapsed": false
   }
  },
  {
   "cell_type": "code",
   "execution_count": 99,
   "outputs": [
    {
     "name": "stdout",
     "output_type": "stream",
     "text": [
      "Connecting to database\n",
      "\t->host='localhost' dbname='pyautomation' user='root' password='secret'\n",
      "opened database successfully\n"
     ]
    }
   ],
   "source": [
    "conn_string = \"host='localhost' dbname='pyautomation' user='root' password='secret'\"\n",
    "print (\"Connecting to database\\n\t->%s\" % (conn_string))\n",
    "\n",
    "conn = pdb.connect(conn_string)\n",
    "cursor = conn.cursor()\n",
    "print('opened database successfully')"
   ],
   "metadata": {
    "collapsed": false
   }
  },
  {
   "cell_type": "code",
   "execution_count": 100,
   "outputs": [
    {
     "data": {
      "text/plain": "'customer_contracts'"
     },
     "execution_count": 100,
     "metadata": {},
     "output_type": "execute_result"
    }
   ],
   "source": [
    "clean_tbl_name"
   ],
   "metadata": {
    "collapsed": false
   }
  },
  {
   "cell_type": "code",
   "execution_count": 101,
   "outputs": [],
   "source": [
    "#drop tables with same name\n",
    "cursor.execute(\"drop table if exists customer_contracts;\")\n"
   ],
   "metadata": {
    "collapsed": false
   }
  },
  {
   "cell_type": "code",
   "execution_count": 102,
   "outputs": [
    {
     "data": {
      "text/plain": "'customer_name varchar, start_date varchar, end_date varchar, contract_amount_m float, invoice_sent varchar, paid varchar'"
     },
     "execution_count": 102,
     "metadata": {},
     "output_type": "execute_result"
    }
   ],
   "source": [
    "col_str"
   ],
   "metadata": {
    "collapsed": false
   }
  },
  {
   "cell_type": "code",
   "execution_count": 103,
   "outputs": [],
   "source": [
    "# creat table\n",
    "cursor.execute(\"create table customer_contracts (customer_name varchar, start_date varchar, end_date varchar, contract_amount_m float, invoice_sent varchar, paid varchar)\")\n"
   ],
   "metadata": {
    "collapsed": false
   }
  },
  {
   "cell_type": "code",
   "execution_count": 104,
   "outputs": [
    {
     "name": "stdout",
     "output_type": "stream",
     "text": [
      "('customer_contracts',)\n"
     ]
    }
   ],
   "source": [
    "cursor.execute(\"SELECT table_name FROM information_schema.tables WHERE table_schema = 'public' \")\n",
    "\n",
    "for table in cursor.fetchall():\n",
    "    print(table)"
   ],
   "metadata": {
    "collapsed": false
   }
  },
  {
   "cell_type": "code",
   "execution_count": 106,
   "outputs": [
    {
     "name": "stdout",
     "output_type": "stream",
     "text": [
      "file opened in memory\n"
     ]
    }
   ],
   "source": [
    "#insert values to table\n",
    "\n",
    "#save df to csv\n",
    "df.to_csv('customer_contracts.csv', header=df.columns, index=False, encoding='utf-8')\n",
    "\n",
    "#open the csv file, save it as object\n",
    "my_file = open('customer_contracts.csv')\n",
    "print('file opened in memory')"
   ],
   "metadata": {
    "collapsed": false
   }
  },
  {
   "cell_type": "code",
   "execution_count": 107,
   "outputs": [
    {
     "name": "stdout",
     "output_type": "stream",
     "text": [
      "file copied to db\n"
     ]
    }
   ],
   "source": [
    "#upload to db\n",
    "SQL_STATEMENT = \"\"\"\n",
    "COPY customer_contracts FROM STDIN WITH\n",
    "    CSV\n",
    "    HEADER\n",
    "    DELIMITER AS ','\n",
    "\"\"\"\n",
    "\n",
    "cursor.copy_expert(sql=SQL_STATEMENT, file=my_file)\n",
    "print('file copied to db')"
   ],
   "metadata": {
    "collapsed": false
   }
  },
  {
   "cell_type": "code",
   "execution_count": 108,
   "outputs": [
    {
     "name": "stdout",
     "output_type": "stream",
     "text": [
      "table customer_contracts imported to db completed\n"
     ]
    }
   ],
   "source": [
    "cursor.execute(\"grant select on table customer_contracts to public\")\n",
    "conn.commit()\n",
    "\n",
    "cursor.close()\n",
    "print('table customer_contracts imported to db completed')"
   ],
   "metadata": {
    "collapsed": false
   }
  },
  {
   "cell_type": "code",
   "execution_count": null,
   "outputs": [],
   "source": [],
   "metadata": {
    "collapsed": false
   }
  }
 ],
 "metadata": {
  "kernelspec": {
   "display_name": "Python 3",
   "language": "python",
   "name": "python3"
  },
  "language_info": {
   "codemirror_mode": {
    "name": "ipython",
    "version": 3
   },
   "file_extension": ".py",
   "mimetype": "text/x-python",
   "name": "python",
   "nbconvert_exporter": "python",
   "pygments_lexer": "ipython3",
   "version": "3.10.9"
  },
  "vscode": {
   "interpreter": {
    "hash": "aee8b7b246df8f9039afb4144a1f6fd8d2ca17a180786b69acc140d282b71a49"
   }
  }
 },
 "nbformat": 4,
 "nbformat_minor": 0
}
